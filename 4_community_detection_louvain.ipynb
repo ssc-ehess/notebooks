{
 "cells": [
  {
   "cell_type": "code",
   "execution_count": 1,
   "id": "b65d14a1-7e7a-4155-a499-6ddb60026196",
   "metadata": {},
   "outputs": [],
   "source": [
    "import networkx as nx\n",
    "import pandas as pd\n",
    "import numpy as np\n",
    "\n",
    "# pip install pysankey seaborn\n",
    "from pySankey.sankey import sankey\n"
   ]
  },
  {
   "cell_type": "code",
   "execution_count": 89,
   "id": "c3e0bbd6-2029-4c6e-8607-3678c7f3f61b",
   "metadata": {},
   "outputs": [],
   "source": [
    "G_citations = nx.Graph(nx.read_gexf(\"output/citations.gexf\"))\n",
    "Gcc = sorted(nx.connected_components(nx.Graph(G_citations)), key=len, reverse=True)\n",
    "G_citations = G_citations.subgraph(Gcc[0])\n",
    "\n",
    "G_coauthors = nx.read_gexf(\"output/coauthors.gexf\")\n",
    "Gcc = sorted(nx.connected_components(nx.Graph(G_coauthors)), key=len, reverse=True)\n",
    "G_coauthors = G_coauthors.subgraph(Gcc[0])\n",
    "\n",
    "author_list = set(G_citations.nodes)&set(G_coauthors.nodes)"
   ]
  },
  {
   "cell_type": "code",
   "execution_count": null,
   "id": "85e67c91-09bb-4774-acf6-029c82f65aac",
   "metadata": {},
   "outputs": [],
   "source": [
    "partition_citations = nx.algorithms.community.louvain.louvain_communities(G_citations, resolution=1)\n",
    "partition_coauthors = nx.algorithms.community.louvain.louvain_communities(G_coauthors, resolution=0.2)"
   ]
  },
  {
   "cell_type": "code",
   "execution_count": null,
   "id": "c6802ea7-27dd-41cd-9722-86e60578b790",
   "metadata": {},
   "outputs": [],
   "source": [
    "node_community_citations = dict()\n",
    "node_community_coauthors = dict()\n",
    "\n",
    "for i, community in enumerate(partition_citations):\n",
    "    for node in community:\n",
    "        node_community_citations[node] = i\n",
    "\n",
    "n = np.max(list(node_community_citations.values())) + 1\n",
    "n = int(n)\n",
    "\n",
    "for i, community in enumerate(partition_coauthors):\n",
    "    for node in community:\n",
    "        node_community_coauthors[node] = i + n\n",
    "\n",
    "links = nx.DiGraph()\n",
    "\n",
    "for node in author_list:\n",
    "    a, b = node_community_citations[node], node_community_coauthors[node]\n",
    "    if links.has_edge(a, b):\n",
    "        links[a][b][\"value\"] += 1\n",
    "    else:\n",
    "        links.add_edge(a,b,value=1)\n",
    "\n",
    "sources = []\n",
    "targets = []\n",
    "values = []\n",
    "degree = nx.degree(links, weight=\"value\")\n",
    "\n",
    "for source, target, attrs in links.edges(data=True):\n",
    "    if degree[source] < 100 or degree[target] < 100:\n",
    "        continue\n",
    "    sources.append(source)\n",
    "    targets.append(target)\n",
    "    values.append(attrs[\"value\"])\n",
    "    "
   ]
  },
  {
   "cell_type": "code",
   "execution_count": null,
   "id": "8df19380-a70a-4d56-b5d1-171ba15d6943",
   "metadata": {},
   "outputs": [],
   "source": [
    "sankey(\n",
    "    left=sources, right=targets, \n",
    "    leftWeight=values, rightWeight=values, \n",
    "    aspect=20, fontsize=0\n",
    ")"
   ]
  },
  {
   "cell_type": "code",
   "execution_count": null,
   "id": "b8432935-76c4-4cb7-8d29-6da7c5356453",
   "metadata": {},
   "outputs": [],
   "source": [
    "import plotly.graph_objects as go\n",
    "fig = go.Figure(go.Sankey(\n",
    "    node=dict(\n",
    "        pad=20,\n",
    "        thickness=20,\n",
    "        line=dict(width=0),\n",
    "        label=list(set(sources + targets)),  # Unique labels\n",
    "    ),\n",
    "    link=dict(\n",
    "        source=[list(set(sources + targets)).index(s) for s in sources],\n",
    "        target=[list(set(sources + targets)).index(t) for t in targets],\n",
    "        value=values\n",
    "    )\n",
    "))\n",
    "fig.show()"
   ]
  },
  {
   "cell_type": "code",
   "execution_count": null,
   "id": "66527e12-0065-4474-b1df-98b784154540",
   "metadata": {},
   "outputs": [],
   "source": []
  }
 ],
 "metadata": {
  "kernelspec": {
   "display_name": "Python 3 (ipykernel)",
   "language": "python",
   "name": "python3"
  },
  "language_info": {
   "codemirror_mode": {
    "name": "ipython",
    "version": 3
   },
   "file_extension": ".py",
   "mimetype": "text/x-python",
   "name": "python",
   "nbconvert_exporter": "python",
   "pygments_lexer": "ipython3",
   "version": "3.10.16"
  }
 },
 "nbformat": 4,
 "nbformat_minor": 5
}

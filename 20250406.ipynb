{
 "cells": [
  {
   "cell_type": "code",
   "execution_count": 1,
   "id": "5048f4cb-ecda-4e3d-8b70-4b1f699e9374",
   "metadata": {},
   "outputs": [],
   "source": [
    "import nltk\n",
    "import pandas as pd\n",
    "import numpy as np\n",
    "from gensim.models import Word2Vec\n",
    "from tqdm.notebook import tqdm "
   ]
  },
  {
   "cell_type": "code",
   "execution_count": 2,
   "id": "04f6188e-7136-4f0f-866b-db022afb9c05",
   "metadata": {},
   "outputs": [],
   "source": [
    "lemmatizer = nltk.stem.WordNetLemmatizer()\n",
    "\n",
    "def tokenize_and_lemmatize(text):\n",
    "    pos_lemma = {\n",
    "        \"J\": \"a\",\n",
    "        \"N\": \"n\",\n",
    "        \"V\": \"v\"\n",
    "    }\n",
    "\n",
    "    # découpage de la phrase en liste de mots\n",
    "    tokens = nltk.tokenize.word_tokenize(text)\n",
    "\n",
    "    # suppression des mots qui ne contiennent pas uniquement des lettres\n",
    "    tokens = [t for t in tokens if t.isalpha()]\n",
    "\n",
    "    # part-of-speech tagging de chaque mot, pour déterminer leur catégorie lexicale\n",
    "    # (noms, adjectifs, etc.)\n",
    "    tags = nltk.pos_tag(tokens)\n",
    "\n",
    "    # filtre des mots en fonction de leur catégorie lexicale, et lemmatization\n",
    "    tokens = [\n",
    "        lemmatizer.lemmatize(word, pos_lemma[pos[0]])\n",
    "        for word, pos in tags\n",
    "        if (pos[:2] == \"NN\" or pos[:2] == \"JJ\" or pos[:2] == \"VB\")\n",
    "    ]\n",
    "    \n",
    "    return tokens\n",
    "\n",
    "def text_to_sentences(text):\n",
    "    text = text.lower()\n",
    "\n",
    "    # découpage du texte en liste de phrases\n",
    "    input_sentences = nltk.tokenize.sent_tokenize(text)\n",
    "    output_sentences = []\n",
    "\n",
    "    # tokenization et lemmatization des mots de chaque phrase, une par une\n",
    "    for sentence in input_sentences:\n",
    "        words = tokenize_and_lemmatize(sentence)\n",
    "        output_sentences.append(words)\n",
    "    \n",
    "    return output_sentences"
   ]
  },
  {
   "cell_type": "code",
   "execution_count": 3,
   "id": "1d96b27e-e21b-4bbd-8b91-f54cb4d0894c",
   "metadata": {},
   "outputs": [],
   "source": [
    "# chargement des articles\n",
    "df = pd.read_parquet(\"science/climate/articles.parquet\")"
   ]
  },
  {
   "cell_type": "markdown",
   "id": "50a17152-e01c-4c7e-bc49-13d008810a01",
   "metadata": {},
   "source": [
    "## Le principe de word2vec\n",
    "\n",
    "word2vec \"apprend\" une représentation vectorielle (spatiale) des mots d'un corpus en entraînant un modèle à accomplir une tâche de prédiction. Ici, la tâche est de prédire les mots entourant un mot donné; par exemple, dans l'expression:\n",
    "\n",
    "\"*climate change simulation*\"\n",
    "\n",
    "Le mot doit apprendre à prédire les mots précédant et suivant \"change\":\n",
    "\n",
    "![](output/word2vec_skipgram.png \"\")"
   ]
  },
  {
   "cell_type": "code",
   "execution_count": null,
   "id": "52730026-1dc6-41d0-90b2-809a2c28588a",
   "metadata": {},
   "outputs": [],
   "source": []
  }
 ],
 "metadata": {
  "kernelspec": {
   "display_name": "Python 3 (ipykernel)",
   "language": "python",
   "name": "python3"
  },
  "language_info": {
   "codemirror_mode": {
    "name": "ipython",
    "version": 3
   },
   "file_extension": ".py",
   "mimetype": "text/x-python",
   "name": "python",
   "nbconvert_exporter": "python",
   "pygments_lexer": "ipython3",
   "version": "3.10.13"
  }
 },
 "nbformat": 4,
 "nbformat_minor": 5
}

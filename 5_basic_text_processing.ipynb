{
 "cells": [
  {
   "cell_type": "code",
   "execution_count": 77,
   "id": "1593eef8-ed92-4104-b1ad-74ff54998e3d",
   "metadata": {},
   "outputs": [],
   "source": [
    "import pandas as pd\n",
    "import nltk\n",
    "import networkx as nx"
   ]
  },
  {
   "cell_type": "code",
   "execution_count": 78,
   "id": "fd7a3fb9-33a4-45ae-ae05-3f7cbcf87ebd",
   "metadata": {},
   "outputs": [
    {
     "name": "stderr",
     "output_type": "stream",
     "text": [
      "[nltk_data] Downloading package punkt_tab to\n",
      "[nltk_data]     /Users/lucasgautheron/nltk_data...\n",
      "[nltk_data]   Package punkt_tab is already up-to-date!\n",
      "[nltk_data] Downloading package wordnet to\n",
      "[nltk_data]     /Users/lucasgautheron/nltk_data...\n",
      "[nltk_data]   Package wordnet is already up-to-date!\n",
      "[nltk_data] Downloading package averaged_perceptron_tagger_eng to\n",
      "[nltk_data]     /Users/lucasgautheron/nltk_data...\n",
      "[nltk_data]   Package averaged_perceptron_tagger_eng is already up-to-\n",
      "[nltk_data]       date!\n"
     ]
    },
    {
     "data": {
      "text/plain": [
       "True"
      ]
     },
     "execution_count": 78,
     "metadata": {},
     "output_type": "execute_result"
    }
   ],
   "source": [
    "nltk.download('punkt_tab')\n",
    "nltk.download('wordnet')\n",
    "nltk.download('averaged_perceptron_tagger_eng')"
   ]
  },
  {
   "cell_type": "code",
   "execution_count": 79,
   "id": "0852375e-5354-4b2d-b869-a31d5b3e9b43",
   "metadata": {},
   "outputs": [],
   "source": [
    "words = nltk.tokenize.word_tokenize(\"This is a sentence. Here's another one.\")"
   ]
  },
  {
   "cell_type": "code",
   "execution_count": 80,
   "id": "0d2dae91-5654-439a-a5d7-5c5f8380084c",
   "metadata": {},
   "outputs": [],
   "source": [
    "lemmatizer = nltk.stem.WordNetLemmatizer()\n",
    "words = [\n",
    "    lemmatizer.lemmatize(word) for word in words\n",
    "]"
   ]
  },
  {
   "cell_type": "code",
   "execution_count": 81,
   "id": "6d0928bc-cf1b-4761-af50-0db644c246e1",
   "metadata": {},
   "outputs": [
    {
     "data": {
      "text/plain": [
       "[('This', 'DT'),\n",
       " ('is', 'VBZ'),\n",
       " ('a', 'DT'),\n",
       " ('sentence', 'NN'),\n",
       " ('.', '.'),\n",
       " ('Here', 'RB'),\n",
       " (\"'s\", 'VBZ'),\n",
       " ('another', 'DT'),\n",
       " ('one', 'NN'),\n",
       " ('.', '.')]"
      ]
     },
     "execution_count": 81,
     "metadata": {},
     "output_type": "execute_result"
    }
   ],
   "source": [
    "nltk.tag.pos_tag(words)"
   ]
  },
  {
   "cell_type": "code",
   "execution_count": 82,
   "id": "44d97cd3-a375-4e8a-b0d6-02949e9d1eac",
   "metadata": {},
   "outputs": [
    {
     "data": {
      "text/plain": [
       "['sentence', 'one']"
      ]
     },
     "execution_count": 82,
     "metadata": {},
     "output_type": "execute_result"
    }
   ],
   "source": [
    "nouns = [\n",
    "    word\n",
    "    for word, tag in nltk.tag.pos_tag(words)\n",
    "    if tag == \"NN\"\n",
    "]\n",
    "nouns"
   ]
  },
  {
   "cell_type": "code",
   "execution_count": 83,
   "id": "349d149b-024a-439d-ab0f-6883deb70802",
   "metadata": {},
   "outputs": [],
   "source": [
    "def text_to_nouns(text):\n",
    "    text = text.lower()\n",
    "    words = nltk.tokenize.word_tokenize(text)\n",
    "    tags = nltk.tag.pos_tag(words)\n",
    "    nouns = [\n",
    "        word\n",
    "        for word, tag in tags\n",
    "        if tag == \"NN\"\n",
    "    ]\n",
    "    return nouns"
   ]
  },
  {
   "cell_type": "code",
   "execution_count": 84,
   "id": "19f63cf4-f2e4-4b76-9113-41cf847677f0",
   "metadata": {},
   "outputs": [
    {
     "name": "stderr",
     "output_type": "stream",
     "text": [
      "/var/folders/n_/1jsh_4z951n2wf4_2t22fqxm0000gn/T/ipykernel_6539/1825514472.py:2: FutureWarning: A value is trying to be set on a copy of a DataFrame or Series through chained assignment using an inplace method.\n",
      "The behavior will change in pandas 3.0. This inplace method will never work because the intermediate object on which we are setting values always behaves as a copy.\n",
      "\n",
      "For example, when doing 'df[col].method(value, inplace=True)', try using 'df.method({col: value}, inplace=True)' or df[col] = df[col].method(value) instead, to perform the operation inplace on the original object.\n",
      "\n",
      "\n",
      "  df[\"title\"].fillna(value=\" \", inplace=True)\n"
     ]
    },
    {
     "data": {
      "text/plain": [
       "article_id\n",
       "4393546166                               [al, uncertainty, job]\n",
       "4393714386                               [al, uncertainty, job]\n",
       "4220805390                                             [europe]\n",
       "4220871093    [carbon, footprint, assessment, decarbonisatio...\n",
       "4224019370                        [future, cryosphere, warming]\n",
       "                                    ...                        \n",
       "4386855500    [accounting, time, greenhouse, gas, investment...\n",
       "4389633312       [sukuk, arabia, sustainability, light, vision]\n",
       "4389862110                          [esg, management, thailand]\n",
       "4389881210             [credibility, bond, market, case, china]\n",
       "4390419499    [development, finance, eaeu, assessment, liqui...\n",
       "Name: nouns, Length: 231101, dtype: object"
      ]
     },
     "execution_count": 84,
     "metadata": {},
     "output_type": "execute_result"
    }
   ],
   "source": [
    "df = pd.read_parquet(\"science/climate/articles.parquet\")\n",
    "df[\"title\"].fillna(value=\" \", inplace=True)\n",
    "df[\"nouns\"] = df[\"title\"].map(text_to_nouns)\n",
    "df[\"nouns\"]"
   ]
  },
  {
   "cell_type": "code",
   "execution_count": 85,
   "id": "00275bae-f95d-444d-a4b5-c97ecc8dc953",
   "metadata": {},
   "outputs": [],
   "source": [
    "document_frequency = dict()\n",
    "\n",
    "for nouns in df[\"nouns\"].tolist():\n",
    "    for noun in set(nouns):\n",
    "        document_frequency[noun] = document_frequency.get(noun, 0)+1"
   ]
  },
  {
   "cell_type": "code",
   "execution_count": 86,
   "id": "90858207-619f-48db-8b79-fa1da5fd8844",
   "metadata": {},
   "outputs": [],
   "source": [
    "frequent_nouns = [\n",
    "    noun for noun in document_frequency.keys() if document_frequency[noun] >= 100\n",
    "]"
   ]
  },
  {
   "cell_type": "code",
   "execution_count": 143,
   "id": "3a65ddb0-8242-42da-82c1-ed85167ee022",
   "metadata": {},
   "outputs": [
    {
     "data": {
      "text/plain": [
       "['uncertainty',\n",
       " 'al',\n",
       " 'europe',\n",
       " 'development',\n",
       " 'footprint',\n",
       " 'assessment',\n",
       " 'strategy',\n",
       " 'carbon',\n",
       " 'future',\n",
       " 'warming']"
      ]
     },
     "execution_count": 143,
     "metadata": {},
     "output_type": "execute_result"
    }
   ],
   "source": [
    "frequent_nouns[:10]"
   ]
  },
  {
   "cell_type": "code",
   "execution_count": 121,
   "id": "a89ff421-840e-4b78-bf8a-9f4528a1ce82",
   "metadata": {},
   "outputs": [],
   "source": [
    "G = nx.Graph()\n",
    "for nouns in df[\"nouns\"]:\n",
    "    nouns = [noun for noun in nouns if noun in frequent_nouns]\n",
    "    nouns = list(set(nouns))\n",
    "    for i, a in enumerate(nouns):\n",
    "        for j, b in enumerate(nouns):\n",
    "            if i<j:\n",
    "                if G.has_edge(a, b):\n",
    "                    G[a][b][\"coocc\"] += 1\n",
    "                else:\n",
    "                    G.add_edge(a, b, coocc=1)"
   ]
  },
  {
   "cell_type": "code",
   "execution_count": 111,
   "id": "d87f7896-9a7b-4d7c-96a4-7cb39c8fb8a6",
   "metadata": {},
   "outputs": [],
   "source": [
    "nx.write_gexf(G, \"output/coocc.gexf\")"
   ]
  },
  {
   "cell_type": "code",
   "execution_count": 122,
   "id": "514afbe0-8da5-40fe-b241-34a81b73b6d0",
   "metadata": {},
   "outputs": [],
   "source": [
    "import numpy as np\n",
    "\n",
    "words = list(G.nodes)\n",
    "N = len(df)\n",
    "occ = {\n",
    "    word: document_frequency[word]/N for word in words\n",
    "}\n",
    "\n",
    "weight = dict()\n",
    "for a, b, attrs in G.edges(data=True):\n",
    "    weight[(a,b)] = np.log(occ[a]*occ[b])/np.log(attrs[\"coocc\"]/N) - 1\n",
    "\n",
    "nx.set_edge_attributes(G, weight, \"weight\")\n",
    "G.remove_edges_from([(a,b) for a, b, attrs in G.edges(data=True) if attrs[\"weight\"]<0 or attrs[\"coocc\"]<15])"
   ]
  },
  {
   "cell_type": "code",
   "execution_count": 123,
   "id": "74a2c5b6-cb62-4bc3-b34d-0e5aaa4ea79e",
   "metadata": {},
   "outputs": [],
   "source": [
    "nx.write_gexf(G, \"output/coocc.gexf\")"
   ]
  },
  {
   "cell_type": "code",
   "execution_count": 125,
   "id": "c84b9022-9bc2-4cfc-842a-b0a1a7fc904b",
   "metadata": {},
   "outputs": [],
   "source": [
    "authors = pd.read_parquet(\"science/climate/authors.parquet\")\n",
    "articles_authors = pd.read_parquet(\"science/climate/articles_authors.parquet\")"
   ]
  },
  {
   "cell_type": "code",
   "execution_count": 127,
   "id": "41813960-1be9-4965-b1ce-1e91d59e4480",
   "metadata": {},
   "outputs": [],
   "source": [
    "articles_authors = articles_authors.merge(authors, left_on=\"author_id\", right_index=True)"
   ]
  },
  {
   "cell_type": "code",
   "execution_count": 145,
   "id": "1c33be4a-2bcf-4366-8419-ae780c684c31",
   "metadata": {},
   "outputs": [],
   "source": [
    "article_gender = articles_authors.groupby(\"article_id\").agg(\n",
    "    male = (\"gender\", lambda g: np.sum(g==\"m\")),\n",
    "    female = (\"gender\", lambda g: np.sum(g==\"f\"))\n",
    ")"
   ]
  },
  {
   "cell_type": "code",
   "execution_count": 146,
   "id": "fb859005-6a21-4b31-96c3-61b7f77285c0",
   "metadata": {},
   "outputs": [],
   "source": [
    "df = df.merge(article_gender, how=\"inner\", left_index=True, right_index=True)"
   ]
  },
  {
   "cell_type": "code",
   "execution_count": 148,
   "id": "ad37e7f5-01a7-486d-b7bb-abd4793a8e38",
   "metadata": {},
   "outputs": [],
   "source": [
    "def term_frequency(df):\n",
    "    document_frequency = dict()\n",
    "\n",
    "    for nouns in df[\"nouns\"].tolist():\n",
    "        for noun in set(nouns):\n",
    "            document_frequency[noun] = document_frequency.get(noun, 0)+1\n",
    "\n",
    "    for noun in document_frequency.keys():\n",
    "        document_frequency[noun] /= len(df)\n",
    "\n",
    "    return document_frequency\n",
    "\n",
    "male_freq = term_frequency(df[df[\"male\"]>df[\"female\"]])\n",
    "female_freq = term_frequency(df[df[\"male\"]<df[\"female\"]])"
   ]
  },
  {
   "cell_type": "code",
   "execution_count": 168,
   "id": "14d9243d-c5b8-4412-8443-fadb42cb0783",
   "metadata": {},
   "outputs": [],
   "source": [
    "freq = []\n",
    "for noun in frequent_nouns:\n",
    "    freq.append({\n",
    "        \"noun\": noun,\n",
    "        \"male\": male_freq.get(noun, 0),\n",
    "        \"female\": female_freq.get(noun, 0)\n",
    "    })"
   ]
  },
  {
   "cell_type": "code",
   "execution_count": 169,
   "id": "3aa3efd8-2429-40f9-b036-0de3866d36ef",
   "metadata": {},
   "outputs": [
    {
     "data": {
      "text/html": [
       "<div>\n",
       "<style scoped>\n",
       "    .dataframe tbody tr th:only-of-type {\n",
       "        vertical-align: middle;\n",
       "    }\n",
       "\n",
       "    .dataframe tbody tr th {\n",
       "        vertical-align: top;\n",
       "    }\n",
       "\n",
       "    .dataframe thead th {\n",
       "        text-align: right;\n",
       "    }\n",
       "</style>\n",
       "<table border=\"1\" class=\"dataframe\">\n",
       "  <thead>\n",
       "    <tr style=\"text-align: right;\">\n",
       "      <th></th>\n",
       "      <th>noun</th>\n",
       "      <th>male</th>\n",
       "      <th>female</th>\n",
       "    </tr>\n",
       "  </thead>\n",
       "  <tbody>\n",
       "    <tr>\n",
       "      <th>0</th>\n",
       "      <td>uncertainty</td>\n",
       "      <td>0.010183</td>\n",
       "      <td>0.005961</td>\n",
       "    </tr>\n",
       "    <tr>\n",
       "      <th>1</th>\n",
       "      <td>al</td>\n",
       "      <td>0.003045</td>\n",
       "      <td>0.002054</td>\n",
       "    </tr>\n",
       "    <tr>\n",
       "      <th>2</th>\n",
       "      <td>europe</td>\n",
       "      <td>0.009708</td>\n",
       "      <td>0.006804</td>\n",
       "    </tr>\n",
       "    <tr>\n",
       "      <th>3</th>\n",
       "      <td>development</td>\n",
       "      <td>0.016462</td>\n",
       "      <td>0.022394</td>\n",
       "    </tr>\n",
       "    <tr>\n",
       "      <th>4</th>\n",
       "      <td>footprint</td>\n",
       "      <td>0.002153</td>\n",
       "      <td>0.002219</td>\n",
       "    </tr>\n",
       "    <tr>\n",
       "      <th>...</th>\n",
       "      <td>...</td>\n",
       "      <td>...</td>\n",
       "      <td>...</td>\n",
       "    </tr>\n",
       "    <tr>\n",
       "      <th>1261</th>\n",
       "      <td>biogeography</td>\n",
       "      <td>0.001048</td>\n",
       "      <td>0.000605</td>\n",
       "    </tr>\n",
       "    <tr>\n",
       "      <th>1262</th>\n",
       "      <td>iucn</td>\n",
       "      <td>0.000254</td>\n",
       "      <td>0.000183</td>\n",
       "    </tr>\n",
       "    <tr>\n",
       "      <th>1263</th>\n",
       "      <td>birdlife</td>\n",
       "      <td>0.000000</td>\n",
       "      <td>0.000000</td>\n",
       "    </tr>\n",
       "    <tr>\n",
       "      <th>1264</th>\n",
       "      <td>v0.1</td>\n",
       "      <td>0.001162</td>\n",
       "      <td>0.000825</td>\n",
       "    </tr>\n",
       "    <tr>\n",
       "      <th>1265</th>\n",
       "      <td>v0.2</td>\n",
       "      <td>0.000581</td>\n",
       "      <td>0.000403</td>\n",
       "    </tr>\n",
       "  </tbody>\n",
       "</table>\n",
       "<p>1266 rows × 3 columns</p>\n",
       "</div>"
      ],
      "text/plain": [
       "              noun      male    female\n",
       "0      uncertainty  0.010183  0.005961\n",
       "1               al  0.003045  0.002054\n",
       "2           europe  0.009708  0.006804\n",
       "3      development  0.016462  0.022394\n",
       "4        footprint  0.002153  0.002219\n",
       "...            ...       ...       ...\n",
       "1261  biogeography  0.001048  0.000605\n",
       "1262          iucn  0.000254  0.000183\n",
       "1263      birdlife  0.000000  0.000000\n",
       "1264          v0.1  0.001162  0.000825\n",
       "1265          v0.2  0.000581  0.000403\n",
       "\n",
       "[1266 rows x 3 columns]"
      ]
     },
     "execution_count": 169,
     "metadata": {},
     "output_type": "execute_result"
    }
   ],
   "source": [
    "freq = pd.DataFrame(freq)\n",
    "freq"
   ]
  },
  {
   "cell_type": "code",
   "execution_count": 170,
   "id": "f322e334-1499-466a-8651-608ca9283b01",
   "metadata": {},
   "outputs": [],
   "source": [
    "freq[\"ratio\"] = freq[\"female\"]/freq[\"male\"]"
   ]
  },
  {
   "cell_type": "code",
   "execution_count": 171,
   "id": "09e45359-80df-4046-9860-dc3e97f32e67",
   "metadata": {},
   "outputs": [
    {
     "data": {
      "text/html": [
       "<div>\n",
       "<style scoped>\n",
       "    .dataframe tbody tr th:only-of-type {\n",
       "        vertical-align: middle;\n",
       "    }\n",
       "\n",
       "    .dataframe tbody tr th {\n",
       "        vertical-align: top;\n",
       "    }\n",
       "\n",
       "    .dataframe thead th {\n",
       "        text-align: right;\n",
       "    }\n",
       "</style>\n",
       "<table border=\"1\" class=\"dataframe\">\n",
       "  <thead>\n",
       "    <tr style=\"text-align: right;\">\n",
       "      <th></th>\n",
       "      <th>noun</th>\n",
       "      <th>male</th>\n",
       "      <th>female</th>\n",
       "      <th>ratio</th>\n",
       "    </tr>\n",
       "  </thead>\n",
       "  <tbody>\n",
       "    <tr>\n",
       "      <th>1253</th>\n",
       "      <td>ssc</td>\n",
       "      <td>0.000008</td>\n",
       "      <td>0.000000</td>\n",
       "      <td>0.000000</td>\n",
       "    </tr>\n",
       "    <tr>\n",
       "      <th>1224</th>\n",
       "      <td>lidar</td>\n",
       "      <td>0.001293</td>\n",
       "      <td>0.000238</td>\n",
       "      <td>0.184348</td>\n",
       "    </tr>\n",
       "    <tr>\n",
       "      <th>1122</th>\n",
       "      <td>cop27</td>\n",
       "      <td>0.000753</td>\n",
       "      <td>0.000147</td>\n",
       "      <td>0.194829</td>\n",
       "    </tr>\n",
       "    <tr>\n",
       "      <th>1180</th>\n",
       "      <td>so2</td>\n",
       "      <td>0.000696</td>\n",
       "      <td>0.000147</td>\n",
       "      <td>0.210874</td>\n",
       "    </tr>\n",
       "    <tr>\n",
       "      <th>890</th>\n",
       "      <td>stata</td>\n",
       "      <td>0.001965</td>\n",
       "      <td>0.000422</td>\n",
       "      <td>0.214718</td>\n",
       "    </tr>\n",
       "    <tr>\n",
       "      <th>1005</th>\n",
       "      <td>turbulence</td>\n",
       "      <td>0.000737</td>\n",
       "      <td>0.000165</td>\n",
       "      <td>0.224054</td>\n",
       "    </tr>\n",
       "    <tr>\n",
       "      <th>1236</th>\n",
       "      <td>beech</td>\n",
       "      <td>0.000900</td>\n",
       "      <td>0.000220</td>\n",
       "      <td>0.244422</td>\n",
       "    </tr>\n",
       "    <tr>\n",
       "      <th>1036</th>\n",
       "      <td>hadley</td>\n",
       "      <td>0.000671</td>\n",
       "      <td>0.000165</td>\n",
       "      <td>0.245913</td>\n",
       "    </tr>\n",
       "    <tr>\n",
       "      <th>759</th>\n",
       "      <td>clouds</td>\n",
       "      <td>0.000884</td>\n",
       "      <td>0.000220</td>\n",
       "      <td>0.248948</td>\n",
       "    </tr>\n",
       "    <tr>\n",
       "      <th>558</th>\n",
       "      <td>arabia</td>\n",
       "      <td>0.000737</td>\n",
       "      <td>0.000202</td>\n",
       "      <td>0.273843</td>\n",
       "    </tr>\n",
       "  </tbody>\n",
       "</table>\n",
       "</div>"
      ],
      "text/plain": [
       "            noun      male    female     ratio\n",
       "1253         ssc  0.000008  0.000000  0.000000\n",
       "1224       lidar  0.001293  0.000238  0.184348\n",
       "1122       cop27  0.000753  0.000147  0.194829\n",
       "1180         so2  0.000696  0.000147  0.210874\n",
       "890        stata  0.001965  0.000422  0.214718\n",
       "1005  turbulence  0.000737  0.000165  0.224054\n",
       "1236       beech  0.000900  0.000220  0.244422\n",
       "1036      hadley  0.000671  0.000165  0.245913\n",
       "759       clouds  0.000884  0.000220  0.248948\n",
       "558       arabia  0.000737  0.000202  0.273843"
      ]
     },
     "execution_count": 171,
     "metadata": {},
     "output_type": "execute_result"
    }
   ],
   "source": [
    "# male dominated\n",
    "\n",
    "freq.sort_values(\"ratio\", ascending=True).head(10)"
   ]
  },
  {
   "cell_type": "code",
   "execution_count": 173,
   "id": "a32a9b67-d3ee-43a1-b467-0345498085e0",
   "metadata": {},
   "outputs": [
    {
     "data": {
      "text/html": [
       "<div>\n",
       "<style scoped>\n",
       "    .dataframe tbody tr th:only-of-type {\n",
       "        vertical-align: middle;\n",
       "    }\n",
       "\n",
       "    .dataframe tbody tr th {\n",
       "        vertical-align: top;\n",
       "    }\n",
       "\n",
       "    .dataframe thead th {\n",
       "        text-align: right;\n",
       "    }\n",
       "</style>\n",
       "<table border=\"1\" class=\"dataframe\">\n",
       "  <thead>\n",
       "    <tr style=\"text-align: right;\">\n",
       "      <th></th>\n",
       "      <th>noun</th>\n",
       "      <th>male</th>\n",
       "      <th>female</th>\n",
       "      <th>ratio</th>\n",
       "    </tr>\n",
       "  </thead>\n",
       "  <tbody>\n",
       "    <tr>\n",
       "      <th>1132</th>\n",
       "      <td>nursing</td>\n",
       "      <td>0.000229</td>\n",
       "      <td>0.002036</td>\n",
       "      <td>8.882126</td>\n",
       "    </tr>\n",
       "    <tr>\n",
       "      <th>500</th>\n",
       "      <td>student</td>\n",
       "      <td>0.000172</td>\n",
       "      <td>0.001100</td>\n",
       "      <td>6.401532</td>\n",
       "    </tr>\n",
       "    <tr>\n",
       "      <th>1138</th>\n",
       "      <td>pm2.5</td>\n",
       "      <td>0.000196</td>\n",
       "      <td>0.001082</td>\n",
       "      <td>5.507985</td>\n",
       "    </tr>\n",
       "    <tr>\n",
       "      <th>436</th>\n",
       "      <td>gender</td>\n",
       "      <td>0.001097</td>\n",
       "      <td>0.005704</td>\n",
       "      <td>5.200051</td>\n",
       "    </tr>\n",
       "    <tr>\n",
       "      <th>1173</th>\n",
       "      <td>anxiety</td>\n",
       "      <td>0.000409</td>\n",
       "      <td>0.001834</td>\n",
       "      <td>4.481073</td>\n",
       "    </tr>\n",
       "    <tr>\n",
       "      <th>1164</th>\n",
       "      <td>youth</td>\n",
       "      <td>0.000393</td>\n",
       "      <td>0.001742</td>\n",
       "      <td>4.434395</td>\n",
       "    </tr>\n",
       "    <tr>\n",
       "      <th>1158</th>\n",
       "      <td>pregnancy</td>\n",
       "      <td>0.000262</td>\n",
       "      <td>0.001155</td>\n",
       "      <td>4.411056</td>\n",
       "    </tr>\n",
       "    <tr>\n",
       "      <th>393</th>\n",
       "      <td>scoping</td>\n",
       "      <td>0.000458</td>\n",
       "      <td>0.001981</td>\n",
       "      <td>4.321034</td>\n",
       "    </tr>\n",
       "    <tr>\n",
       "      <th>822</th>\n",
       "      <td>yangtze</td>\n",
       "      <td>0.000761</td>\n",
       "      <td>0.003045</td>\n",
       "      <td>3.999237</td>\n",
       "    </tr>\n",
       "    <tr>\n",
       "      <th>75</th>\n",
       "      <td>school</td>\n",
       "      <td>0.000434</td>\n",
       "      <td>0.001724</td>\n",
       "      <td>3.973781</td>\n",
       "    </tr>\n",
       "  </tbody>\n",
       "</table>\n",
       "</div>"
      ],
      "text/plain": [
       "           noun      male    female     ratio\n",
       "1132    nursing  0.000229  0.002036  8.882126\n",
       "500     student  0.000172  0.001100  6.401532\n",
       "1138      pm2.5  0.000196  0.001082  5.507985\n",
       "436      gender  0.001097  0.005704  5.200051\n",
       "1173    anxiety  0.000409  0.001834  4.481073\n",
       "1164      youth  0.000393  0.001742  4.434395\n",
       "1158  pregnancy  0.000262  0.001155  4.411056\n",
       "393     scoping  0.000458  0.001981  4.321034\n",
       "822     yangtze  0.000761  0.003045  3.999237\n",
       "75       school  0.000434  0.001724  3.973781"
      ]
     },
     "execution_count": 173,
     "metadata": {},
     "output_type": "execute_result"
    }
   ],
   "source": [
    "# female dominated\n",
    "\n",
    "freq.sort_values(\"ratio\", ascending=False).head(10)"
   ]
  }
 ],
 "metadata": {
  "kernelspec": {
   "display_name": "Python 3 (ipykernel)",
   "language": "python",
   "name": "python3"
  },
  "language_info": {
   "codemirror_mode": {
    "name": "ipython",
    "version": 3
   },
   "file_extension": ".py",
   "mimetype": "text/x-python",
   "name": "python",
   "nbconvert_exporter": "python",
   "pygments_lexer": "ipython3",
   "version": "3.10.13"
  }
 },
 "nbformat": 4,
 "nbformat_minor": 5
}

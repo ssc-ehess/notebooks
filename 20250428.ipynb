{
 "cells": [
  {
   "cell_type": "markdown",
   "id": "e7e57bd7-f1cc-4b87-871b-dc65d975ce15",
   "metadata": {},
   "source": [
    "# Analyse sémantique avec [BERTopic](https://maartengr.github.io/BERTopic/index.html)\n",
    "\n",
    "BERTopic est un package python qui facilite la détection de sujets/thématiques dans des corpus par clustering d'embeddings.\n",
    "Il permet d'imbriquer facilement des modèles et techniques existants (qu'il s'agisse de calcul d'embeddings, de réduction de dimensionalité, clustering, etc.).\n",
    "\n",
    "Il offre une certaine flexibilité puisque l'utilisateur a la possibilité de choisir chaque brique du processus.\n",
    "\n",
    "![](output/bert.svg \"\")\n",
    "\n",
    "## Embeddings\n",
    "\n",
    "- BERT: \"*contextualized embeddings*\" dérivés à travers un méchanisms d'attention, tirant partie des interactions entre plusieurs *tokens* dans une séquence (e.g. une phrase). Tâche d'entrainement: prédiction d'un mot masqué dans une séquence, à partir du contexte.\n",
    "- SBERT: dérivation d'embeddings au niveau des phrases elle-même. Tâche d'entraînement: prédiction de similarité entre des paires de phrases.\n",
    "\n",
    "De nombreux modèles pré-entraînés sur de très larges corpus sont disponibles. Ces grands corpus d'entraînement leur permettent de mieux appréhender la structure des langues couvertes. Si nécessaire, les modèles peut-être adaptés (fine-tuned) à un corpus particulier ou pour une tâche particulière.\n",
    "\n",
    "### Limitations\n",
    "\n",
    " - Contexte limité (typiquement 128--512 tokens maximum)\n",
    " - Généralement adapté pour : similarité sémantique, clustering sémantique\n",
    "\n",
    "## Réduction de dimensionalité \n",
    "\n",
    " - [UMAP](https://pair-code.github.io/understanding-umap/index.html)\n",
    " - t-SNE\n",
    " - PCA (analyse en composantes principales)\n",
    "\n",
    "## Clustering\n",
    "\n",
    " - [HDBSCAN](https://hdbscan.readthedocs.io/en/latest/how_hdbscan_works.html)"
   ]
  },
  {
   "cell_type": "code",
   "execution_count": 12,
   "id": "a3e309e3-db44-4df6-9e90-8fd105408cc6",
   "metadata": {},
   "outputs": [
    {
     "data": {
      "text/html": [
       "<div>\n",
       "<style scoped>\n",
       "    .dataframe tbody tr th:only-of-type {\n",
       "        vertical-align: middle;\n",
       "    }\n",
       "\n",
       "    .dataframe tbody tr th {\n",
       "        vertical-align: top;\n",
       "    }\n",
       "\n",
       "    .dataframe thead th {\n",
       "        text-align: right;\n",
       "    }\n",
       "</style>\n",
       "<table border=\"1\" class=\"dataframe\">\n",
       "  <thead>\n",
       "    <tr style=\"text-align: right;\">\n",
       "      <th></th>\n",
       "      <th>title</th>\n",
       "      <th>publication_year</th>\n",
       "    </tr>\n",
       "    <tr>\n",
       "      <th>article_id</th>\n",
       "      <th></th>\n",
       "      <th></th>\n",
       "    </tr>\n",
       "  </thead>\n",
       "  <tbody>\n",
       "    <tr>\n",
       "      <th>4404038659</th>\n",
       "      <td>Assessing climate change vulnerability in coas...</td>\n",
       "      <td>2024</td>\n",
       "    </tr>\n",
       "    <tr>\n",
       "      <th>3088909695</th>\n",
       "      <td>The story of Skeptical Science: How citizen sc...</td>\n",
       "      <td>2020</td>\n",
       "    </tr>\n",
       "    <tr>\n",
       "      <th>4312619376</th>\n",
       "      <td>Miamiensis</td>\n",
       "      <td>2022</td>\n",
       "    </tr>\n",
       "    <tr>\n",
       "      <th>3038215470</th>\n",
       "      <td>Social Investment in Aotearoa/New Zealand: Mea...</td>\n",
       "      <td>2020</td>\n",
       "    </tr>\n",
       "    <tr>\n",
       "      <th>3036375052</th>\n",
       "      <td>MODELING OF THE THERMAL LOADS AND ENERGY CONSE...</td>\n",
       "      <td>2018</td>\n",
       "    </tr>\n",
       "  </tbody>\n",
       "</table>\n",
       "</div>"
      ],
      "text/plain": [
       "                                                        title  \\\n",
       "article_id                                                      \n",
       "4404038659  Assessing climate change vulnerability in coas...   \n",
       "3088909695  The story of Skeptical Science: How citizen sc...   \n",
       "4312619376                                         Miamiensis   \n",
       "3038215470  Social Investment in Aotearoa/New Zealand: Mea...   \n",
       "3036375052  MODELING OF THE THERMAL LOADS AND ENERGY CONSE...   \n",
       "\n",
       "            publication_year  \n",
       "article_id                    \n",
       "4404038659              2024  \n",
       "3088909695              2020  \n",
       "4312619376              2022  \n",
       "3038215470              2020  \n",
       "3036375052              2018  "
      ]
     },
     "execution_count": 12,
     "metadata": {},
     "output_type": "execute_result"
    }
   ],
   "source": [
    "import pandas as pd\n",
    "from bertopic import BERTopic\n",
    "from matplotlib import pyplot as plt\n",
    "import numpy as np\n",
    "\n",
    "# chargement des articles\n",
    "df = pd.read_parquet(\"science/climate/articles.parquet\", columns=[\"title\", \"publication_year\"])\n",
    "\n",
    "# retrait des articles dépourvus de titre\n",
    "df.dropna(subset=[\"title\"], inplace=True)\n",
    "df.sample(n=5)"
   ]
  },
  {
   "cell_type": "markdown",
   "id": "0cbf2a8e-96b9-4469-aac3-717a420acabc",
   "metadata": {},
   "source": [
    "## La méthode simple..."
   ]
  },
  {
   "cell_type": "code",
   "execution_count": 65,
   "id": "802ab03b-d5a7-49fa-a06a-6beed7d6bbeb",
   "metadata": {},
   "outputs": [
    {
     "name": "stderr",
     "output_type": "stream",
     "text": [
      "2025-04-22 12:45:52,468 - BERTopic - Embedding - Transforming documents to embeddings.\n"
     ]
    },
    {
     "data": {
      "application/vnd.jupyter.widget-view+json": {
       "model_id": "777cfa04fa8f4a678a5174f638a398a7",
       "version_major": 2,
       "version_minor": 0
      },
      "text/plain": [
       "Batches:   0%|          | 0/516 [00:00<?, ?it/s]"
      ]
     },
     "metadata": {},
     "output_type": "display_data"
    },
    {
     "name": "stderr",
     "output_type": "stream",
     "text": [
      "2025-04-22 12:46:05,367 - BERTopic - Embedding - Completed ✓\n",
      "2025-04-22 12:46:05,368 - BERTopic - Dimensionality - Fitting the dimensionality reduction algorithm\n",
      "2025-04-22 12:46:07,963 - BERTopic - Dimensionality - Completed ✓\n",
      "2025-04-22 12:46:07,964 - BERTopic - Cluster - Start clustering the reduced embeddings\n",
      "2025-04-22 12:46:08,284 - BERTopic - Cluster - Completed ✓\n",
      "2025-04-22 12:46:08,286 - BERTopic - Representation - Extracting topics from clusters using representation models.\n",
      "2025-04-22 12:46:08,404 - BERTopic - Representation - Completed ✓\n"
     ]
    }
   ],
   "source": [
    "topic_model = BERTopic(\n",
    "    verbose=True\n",
    ")\n",
    "topics, probs = topic_model.fit_transform(df[\"title\"])"
   ]
  },
  {
   "cell_type": "markdown",
   "id": "7055a3d2-edbd-478a-95af-4e515bb1a272",
   "metadata": {},
   "source": [
    "## 1. Calcul des embeddings"
   ]
  },
  {
   "cell_type": "code",
   "execution_count": 2,
   "id": "2bf0d17a-6242-4994-893b-f0335076c05c",
   "metadata": {},
   "outputs": [
    {
     "name": "stderr",
     "output_type": "stream",
     "text": [
      "Batches: 100%|██████████████████████████████████████████████████████████████████████████████| 7200/7200 [04:09<00:00, 28.85it/s]\n"
     ]
    }
   ],
   "source": [
    "# calcul des sentence embeddings\n",
    "# https://huggingface.co/sentence-transformers/paraphrase-multilingual-MiniLM-L12-v2\n",
    "from sentence_transformers import SentenceTransformer\n",
    "sentence_model = SentenceTransformer(\"paraphrase-multilingual-MiniLM-L12-v2\")\n",
    "embeddings = sentence_model.encode(df[\"title\"], show_progress_bar=True)\n",
    "df[\"embeddings\"] = list(embeddings)"
   ]
  },
  {
   "cell_type": "code",
   "execution_count": 23,
   "id": "ef72fbd7-3231-4e4f-acf4-85c79d6bd9c7",
   "metadata": {},
   "outputs": [
    {
     "data": {
      "text/plain": [
       "article_id\n",
       "4393546166    [-0.16074106, 0.030934379, -0.27554017, -0.036...\n",
       "4393714386    [-0.16074106, 0.030934379, -0.27554017, -0.036...\n",
       "4220805390    [0.35049573, -0.052368876, -0.20264225, -0.090...\n",
       "4220871093    [-0.09207082, 0.5513071, -0.03491765, -0.21361...\n",
       "4224019370    [-0.19458358, 0.20947058, 0.1721621, 0.3987271...\n",
       "Name: embeddings, dtype: object"
      ]
     },
     "execution_count": 23,
     "metadata": {},
     "output_type": "execute_result"
    }
   ],
   "source": [
    "climate_embeddings = pd.read_parquet(\"output/climate_embeddings.parquet\")\n",
    "df = df.merge(climate_embeddings, left_index=True, right_index=True)\n",
    "df[\"embeddings\"].head(5)"
   ]
  },
  {
   "cell_type": "code",
   "execution_count": 158,
   "id": "94b98a2e-9d77-4259-813f-6da743cf84a3",
   "metadata": {},
   "outputs": [
    {
     "name": "stdout",
     "output_type": "stream",
     "text": [
      "Modèle multilingue\n",
      "[[1.         0.97918344 0.91667676 0.6397258 ]\n",
      " [0.97918344 1.0000001  0.9452106  0.6486144 ]\n",
      " [0.91667676 0.9452106  1.0000001  0.7016692 ]\n",
      " [0.6397258  0.6486144  0.7016692  1.0000004 ]]\n",
      "Modèle non-multilingue\n",
      "[[ 1.          0.11672513  0.1469035  -0.00344787]\n",
      " [ 0.11672513  1.          0.37959933  0.6123262 ]\n",
      " [ 0.1469035   0.37959933  1.          0.38398886]\n",
      " [-0.00344787  0.6123262   0.38398886  1.        ]]\n"
     ]
    },
    {
     "data": {
      "image/png": "[encoded data removed]",
      "text/plain": [
       "<Figure size 640x480 with 2 Axes>"
      ]
     },
     "metadata": {},
     "output_type": "display_data"
    }
   ],
   "source": [
    "from sklearn.metrics.pairwise import cosine_distances\n",
    "\n",
    "sentences = [\n",
    "    \"I like strawberries\",\n",
    "    \"J'aime les fraises\",\n",
    "    \"Me gustan a las fresas\",\n",
    "    \"M'agraden les maduixes\"\n",
    "]\n",
    "\n",
    "# Multilingue\n",
    "emb = sentence_model.encode(sentences)\n",
    "multilingual_similarity = cosine_similarity(emb)\n",
    "print(\"Modèle multilingue\")\n",
    "print(multilingual_similarity)\n",
    "\n",
    "# Non multilingue\n",
    "model = SentenceTransformer(\"all-MiniLM-L6-v2\")\n",
    "emb = model.encode(sentences)\n",
    "normal_similarity = cosine_similarity(emb)\n",
    "print(\"Modèle non-multilingue\")\n",
    "print(normal_similarity)\n",
    "\n",
    "fig = plt.figure()\n",
    "ax = fig.add_subplot(121)\n",
    "ax.set_title(\"Multilingue\")\n",
    "ax.imshow(multilingual_similarity, cmap=\"RdBu\", vmin=-1, vmax=+1)\n",
    "ax.set_xticks([0, 1, 2, 3], sentences, rotation=90)\n",
    "ax.set_yticks([0, 1, 2, 3], sentences)\n",
    "\n",
    "ax = fig.add_subplot(122)\n",
    "ax.set_title(\"Non-multilingue\")\n",
    "ax.imshow(normal_similarity, cmap=\"RdBu\", vmin=-1, vmax=+1)\n",
    "ax.set_xticks([0, 1, 2, 3], sentences, rotation=90)\n",
    "ax.set_yticks([], [])\n",
    "plt.show()"
   ]
  },
  {
   "cell_type": "markdown",
   "id": "53c934a7-aef6-44d1-a4a4-46b65a2124b3",
   "metadata": {},
   "source": [
    "## 2. Réduction de dimensionalité"
   ]
  },
  {
   "cell_type": "code",
   "execution_count": 14,
   "id": "3c14b60e-a157-4cc2-b068-b3a0f3fe5ca5",
   "metadata": {},
   "outputs": [],
   "source": [
    "# algorithme de réduction de dimensionalité\n",
    "from umap import UMAP\n",
    "umap = UMAP(\n",
    "    n_neighbors=15,\n",
    "    n_components=5,\n",
    "    min_dist=0.0,\n",
    "    metric=\"cosine\",\n",
    "    low_memory=True,\n",
    "    random_state=42\n",
    ")"
   ]
  },
  {
   "cell_type": "markdown",
   "id": "9973caaa-9d1e-4364-a5fa-dfd89f4c24a6",
   "metadata": {},
   "source": [
    "## 3. Clustering"
   ]
  },
  {
   "cell_type": "code",
   "execution_count": 24,
   "id": "a3ddb197-4957-4d67-a932-972971f75445",
   "metadata": {},
   "outputs": [],
   "source": [
    "# algorithme de clustering\n",
    "from hdbscan import HDBSCAN\n",
    "hdbscan = HDBSCAN(\n",
    "    min_cluster_size=250,\n",
    "    metric=\"euclidean\",\n",
    "    cluster_selection_method=\"eom\",\n",
    "    prediction_data=True,\n",
    ")"
   ]
  },
  {
   "cell_type": "markdown",
   "id": "7f5adecb-0221-4350-bf17-c306c125e81f",
   "metadata": {},
   "source": [
    "## 4. Exécution de la pipeline"
   ]
  }
 ],
 "metadata": {
  "kernelspec": {
   "display_name": "Python 3 (ipykernel)",
   "language": "python",
   "name": "python3"
  },
  "language_info": {
   "codemirror_mode": {
    "name": "ipython",
    "version": 3
   },
   "file_extension": ".py",
   "mimetype": "text/x-python",
   "name": "python",
   "nbconvert_exporter": "python",
   "pygments_lexer": "ipython3",
   "version": "3.11.11"
  }
 },
 "nbformat": 4,
 "nbformat_minor": 5
}

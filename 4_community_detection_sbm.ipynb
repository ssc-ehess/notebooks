{
 "cells": [
  {
   "cell_type": "code",
   "execution_count": 1,
   "id": "b65d14a1-7e7a-4155-a499-6ddb60026196",
   "metadata": {},
   "outputs": [
    {
     "ename": "ModuleNotFoundError",
     "evalue": "No module named 'graph_tool'",
     "output_type": "error",
     "traceback": [
      "\u001b[0;31m---------------------------------------------------------------------------\u001b[0m",
      "\u001b[0;31mModuleNotFoundError\u001b[0m                       Traceback (most recent call last)",
      "\u001b[0;32m<ipython-input-1-0173989c7b32>\u001b[0m in \u001b[0;36m<module>\u001b[0;34m\u001b[0m\n\u001b[0;32m----> 1\u001b[0;31m \u001b[0;32mimport\u001b[0m \u001b[0mgraph_tool\u001b[0m\u001b[0;34m.\u001b[0m\u001b[0mall\u001b[0m \u001b[0;32mas\u001b[0m \u001b[0mgt\u001b[0m\u001b[0;34m\u001b[0m\u001b[0;34m\u001b[0m\u001b[0m\n\u001b[0m\u001b[1;32m      2\u001b[0m \u001b[0;34m\u001b[0m\u001b[0m\n\u001b[1;32m      3\u001b[0m \u001b[0;31m# Step 1: Load the GEXF graph\u001b[0m\u001b[0;34m\u001b[0m\u001b[0;34m\u001b[0m\u001b[0;34m\u001b[0m\u001b[0m\n\u001b[1;32m      4\u001b[0m \u001b[0mgraph\u001b[0m \u001b[0;34m=\u001b[0m \u001b[0mgt\u001b[0m\u001b[0;34m.\u001b[0m\u001b[0mload_graph\u001b[0m\u001b[0;34m(\u001b[0m\u001b[0;34m\"path_to_your_graph.gexf\"\u001b[0m\u001b[0;34m)\u001b[0m\u001b[0;34m\u001b[0m\u001b[0;34m\u001b[0m\u001b[0m\n\u001b[1;32m      5\u001b[0m \u001b[0;34m\u001b[0m\u001b[0m\n",
      "\u001b[0;31mModuleNotFoundError\u001b[0m: No module named 'graph_tool'"
     ]
    }
   ],
   "source": [
    "import graph_tool.all as gt\n",
    "\n",
    "# Step 1: Load the GEXF graph\n",
    "graph = gt.load_graph(\"path_to_your_graph.gexf\")\n",
    "\n",
    "# Step 2: Apply Hierarchical Stochastic Block Model (HSBM)\n",
    "# Create a hierarchical SBM instance\n",
    "h_sbm = gt.hierarchical_blockmodel(graph)\n",
    "\n",
    "# Run the HSBM inference\n",
    "state = h_sbm.mcmc_burnin()  # Burn-in phase to stabilize the model\n",
    "state = h_sbm.mcmc_sweep(1000)  # Perform MCMC sweeps for inference\n",
    "\n",
    "# Step 3: Visualize the community structure (hierarchical blocks)\n",
    "# Get the partition at the final level (this can be modified for different hierarchical levels)\n",
    "partition = state.bundles\n",
    "\n",
    "# Visualize the hierarchical community structure by coloring vertices according to their community\n",
    "pos = gt.sfdp_layout(graph)  # Choose a layout for visualization\n",
    "gt.graph_draw(graph, pos, vertex_color=partition, output_size=(800, 800), vertex_size=5)\n",
    "\n",
    "# Optionally, print out the hierarchical community structure\n",
    "for i, part in enumerate(partition):\n",
    "    print(f\"Vertex {i} belongs to community {part}\")"
   ]
  },
  {
   "cell_type": "code",
   "execution_count": null,
   "id": "c3e0bbd6-2029-4c6e-8607-3678c7f3f61b",
   "metadata": {},
   "outputs": [],
   "source": []
  }
 ],
 "metadata": {
  "kernelspec": {
   "display_name": "Python 3",
   "language": "python",
   "name": "python3"
  },
  "language_info": {
   "codemirror_mode": {
    "name": "ipython",
    "version": 3
   },
   "file_extension": ".py",
   "mimetype": "text/x-python",
   "name": "python",
   "nbconvert_exporter": "python",
   "pygments_lexer": "ipython3",
   "version": "3.8.19"
  }
 },
 "nbformat": 4,
 "nbformat_minor": 5
}
